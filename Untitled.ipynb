{
 "cells": [
  {
   "cell_type": "code",
   "execution_count": 1,
   "id": "c9b179d9",
   "metadata": {},
   "outputs": [
    {
     "name": "stdout",
     "output_type": "stream",
     "text": [
      "[1.0, 2.0, 3.0, 4.0, 5.0, 6.0]\n",
      "['Dune: Part One', 'Nobody', 'Spider-Man: No Way Home', 'Old', 'No Time to Die', 'The French Dispatch']\n",
      "[\"A noble family becomes embroiled in a war for control over the galaxy's most valuable asset while its heir becomes troubled by visions of a dark future.\", 'A docile family man slowly reveals his true character after his house gets burgled by two petty thieves, which, coincidentally, leads him into a bloody war with a Russian crime boss.', \"With Spider-Man's identity now revealed, Peter asks Doctor Strange for help. When a spell goes wrong, dangerous foes from other worlds start to appear, forcing Peter to discover what it truly means to be Spider-Man.\", \"A vacationing family discovers that the secluded beach where they're relaxing for a few hours is somehow causing them to age rapidly, reducing their entire lives into a single day.\", 'James Bond has left active service. His peace is short-lived when Felix Leiter, an old friend from the CIA, turns up asking for help, leading Bond onto the trail of a mysterious villain armed with dangerous new technology.', 'A love letter to journalists set in an outpost of an American newspaper in a fictional twentieth century French city that brings to life a collection of stories published in \"The French Dispatch Magazine\".']\n",
      "[155, 92, 148, 108, 163, 107]\n",
      "0    Action\n",
      "1    Action\n",
      "2    Action\n",
      "3     Drama\n",
      "4    Action\n",
      "5    Comedy\n",
      "dtype: category\n",
      "Categories (7, object): ['Action', 'Adventure', 'Animation', 'Comedy', 'Crime', 'Drama', 'Horror']\n",
      "[8.0, 7.4, 8.2, 5.8, 7.3, 7.1]\n",
      "[690626, 292448, 810975, 142105, 422620, 137062]\n",
      "0      Denis Villeneuve\n",
      "1       Ilya Naishuller\n",
      "2             Jon Watts\n",
      "3    M. Night Shyamalan\n",
      "4    Cary Joji Fukunaga\n",
      "5          Wes Anderson\n",
      "dtype: category\n",
      "Categories (49, object): ['Adam McKay', 'Adam Wingard', 'Alan Taylor', 'Alexandre Bustillo', ..., 'Simon McQuoid', 'Tom McCarthy', 'Wes Anderson', 'Zack Snyder']\n",
      "0     Timothée Chalamet\n",
      "1          Bob Odenkirk\n",
      "2           Tom Holland\n",
      "3    Gael García Bernal\n",
      "4          Daniel Craig\n",
      "5      Benicio Del Toro\n",
      "dtype: category\n",
      "Categories (49, object): ['Alana Haim', 'Alessandro Nivola', 'Alexander Skarsgård', 'Annabelle Wallis', ..., 'Timothée Chalamet', 'Tom Hardy', 'Tom Holland', 'Vin Diesel']\n",
      "<class 'pandas.core.frame.DataFrame'>\n",
      "RangeIndex: 50 entries, 0 to 49\n",
      "Data columns (total 9 columns):\n",
      " #   Column       Non-Null Count  Dtype   \n",
      "---  ------       --------------  -----   \n",
      " 0   Rank         50 non-null     float64 \n",
      " 1   Title        50 non-null     object  \n",
      " 2   Description  50 non-null     object  \n",
      " 3   Runtime      50 non-null     int64   \n",
      " 4   Genre        50 non-null     category\n",
      " 5   Rating       50 non-null     float64 \n",
      " 6   Votes        50 non-null     int64   \n",
      " 7   Director     50 non-null     category\n",
      " 8   Actor        50 non-null     category\n",
      "dtypes: category(3), float64(2), int64(2), object(2)\n",
      "memory usage: 5.8+ KB\n",
      "None\n",
      "   Rank                    Title  \\\n",
      "0   1.0           Dune: Part One   \n",
      "1   2.0                   Nobody   \n",
      "2   3.0  Spider-Man: No Way Home   \n",
      "3   4.0                      Old   \n",
      "4   5.0           No Time to Die   \n",
      "\n",
      "                                         Description  Runtime   Genre  Rating  \\\n",
      "0  A noble family becomes embroiled in a war for ...      155  Action     8.0   \n",
      "1  A docile family man slowly reveals his true ch...       92  Action     7.4   \n",
      "2  With Spider-Man's identity now revealed, Peter...      148  Action     8.2   \n",
      "3  A vacationing family discovers that the seclud...      108   Drama     5.8   \n",
      "4  James Bond has left active service. His peace ...      163  Action     7.3   \n",
      "\n",
      "    Votes            Director               Actor  \n",
      "0  690626    Denis Villeneuve   Timothée Chalamet  \n",
      "1  292448     Ilya Naishuller        Bob Odenkirk  \n",
      "2  810975           Jon Watts         Tom Holland  \n",
      "3  142105  M. Night Shyamalan  Gael García Bernal  \n",
      "4  422620  Cary Joji Fukunaga        Daniel Craig  \n",
      "CSV file 'movies_data.csv' has been saved successfully.\n"
     ]
    }
   ],
   "source": [
    "import mini"
   ]
  },
  {
   "cell_type": "code",
   "execution_count": null,
   "id": "eb86a153",
   "metadata": {},
   "outputs": [],
   "source": []
  }
 ],
 "metadata": {
  "kernelspec": {
   "display_name": "Python 3 (ipykernel)",
   "language": "python",
   "name": "python3"
  },
  "language_info": {
   "codemirror_mode": {
    "name": "ipython",
    "version": 3
   },
   "file_extension": ".py",
   "mimetype": "text/x-python",
   "name": "python",
   "nbconvert_exporter": "python",
   "pygments_lexer": "ipython3",
   "version": "3.10.9"
  }
 },
 "nbformat": 4,
 "nbformat_minor": 5
}
